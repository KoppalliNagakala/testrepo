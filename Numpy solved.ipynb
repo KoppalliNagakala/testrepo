{
 "cells": [
  {
   "cell_type": "code",
   "execution_count": 5,
   "id": "1955428e-d9b2-45fd-84cc-920d4dd48695",
   "metadata": {},
   "outputs": [
    {
     "name": "stdout",
     "output_type": "stream",
     "text": [
      "[1 2 3]\n",
      "Type: <class 'numpy.ndarray'>\n",
      "Shape: (3,)\n",
      "1\n",
      "2\n",
      "3\n",
      "[5 1 2 3]\n"
     ]
    }
   ],
   "source": [
    "import numpy as np\n",
    "\n",
    "array = np.array([1, 2, 3])\n",
    "print(array)\n",
    "\n",
    "print(\"Type:\", type(array))\n",
    "print(\"Shape:\", array.shape)\n",
    "\n",
    "print(array[0])\n",
    "print(array[1])\n",
    "print(array[2])\n",
    "\n",
    "array = np.insert(array,0,5)\n",
    "print(array)\n",
    "\n"
   ]
  },
  {
   "cell_type": "code",
   "execution_count": 13,
   "id": "d123bcef-1167-4f81-a69d-b5d282734277",
   "metadata": {},
   "outputs": [
    {
     "name": "stdout",
     "output_type": "stream",
     "text": [
      "[1, 2, 3]\n",
      "[4, 5, 6]\n"
     ]
    }
   ],
   "source": [
    "# Creating a 2D array with nested lists\n",
    "array_2d = [[1, 2, 3], [4, 5, 6]]\n",
    "\n",
    "# Printing the 2D array\n",
    "for row in array_2d:\n",
    "    print(row)\n",
    "\n"
   ]
  },
  {
   "cell_type": "code",
   "execution_count": 14,
   "id": "a61991b7-a9b7-44a6-95b9-7ad9efb6c179",
   "metadata": {},
   "outputs": [
    {
     "name": "stdout",
     "output_type": "stream",
     "text": [
      "Shape: (2, 3)\n"
     ]
    }
   ],
   "source": [
    "import numpy as np\n",
    "\n",
    "# Creating a 2D array with NumPy\n",
    "array_2d = np.array([[1, 2, 3], [4, 5, 6]])\n",
    "\n",
    "# Printing the shape of the array\n",
    "print(\"Shape:\", array_2d.shape)\n"
   ]
  },
  {
   "cell_type": "code",
   "execution_count": 15,
   "id": "c276326b-8ff2-447d-b95c-dfbaf959ef50",
   "metadata": {},
   "outputs": [
    {
     "name": "stdout",
     "output_type": "stream",
     "text": [
      "[[0. 0.]\n",
      " [0. 0.]]\n"
     ]
    }
   ],
   "source": [
    "import numpy as np\n",
    "\n",
    "# Q1. Create an array of all zeros with shape (2,2)\n",
    "a = np.zeros((2, 2))\n",
    "print(a)\n"
   ]
  },
  {
   "cell_type": "code",
   "execution_count": 16,
   "id": "47ed5fc8-7bd2-4613-bb66-09d8343606e0",
   "metadata": {},
   "outputs": [
    {
     "name": "stdout",
     "output_type": "stream",
     "text": [
      "[[1. 1.]]\n"
     ]
    }
   ],
   "source": [
    "# Q2. Create an array of all ones with shape (1,2)\n",
    "b = np.ones((1, 2))\n",
    "print(b)\n"
   ]
  },
  {
   "cell_type": "code",
   "execution_count": 17,
   "id": "d8103709-aa2c-4589-9552-6e74bc4a1c31",
   "metadata": {},
   "outputs": [
    {
     "name": "stdout",
     "output_type": "stream",
     "text": [
      "[[7 7]\n",
      " [7 7]]\n"
     ]
    }
   ],
   "source": [
    "# Q3. Create a constant array with shape (2,2) and value 7\n",
    "c = np.full((2, 2), 7)\n",
    "print(c)\n"
   ]
  },
  {
   "cell_type": "code",
   "execution_count": 18,
   "id": "0a0cb590-a5ab-45f4-b3e9-cee2a8a74e16",
   "metadata": {},
   "outputs": [
    {
     "name": "stdout",
     "output_type": "stream",
     "text": [
      "[[1. 0.]\n",
      " [0. 1.]]\n"
     ]
    }
   ],
   "source": [
    "# Q4. Create a 2x2 identity matrix\n",
    "d = np.eye(2)\n",
    "print(d)\n"
   ]
  },
  {
   "cell_type": "code",
   "execution_count": 19,
   "id": "ebebdf75-7dcb-4d01-8543-56527ad7b060",
   "metadata": {},
   "outputs": [
    {
     "name": "stdout",
     "output_type": "stream",
     "text": [
      "[[0.54524464 0.19190277]\n",
      " [0.01069201 0.13956664]]\n"
     ]
    }
   ],
   "source": [
    "# Q5. Create a (2,2) array filled with random values\n",
    "e = np.random.random((2, 2))\n",
    "print(e)\n"
   ]
  },
  {
   "cell_type": "code",
   "execution_count": 24,
   "id": "610efbbe-f824-4824-be67-40787987787c",
   "metadata": {},
   "outputs": [
    {
     "name": "stdout",
     "output_type": "stream",
     "text": [
      "2\n",
      "77\n"
     ]
    }
   ],
   "source": [
    "import numpy as np\n",
    "\n",
    "# Q1. Create the following rank 2 array with shape (3, 4) and values as given below\n",
    "a = np.array([[1, 2, 3, 4],\n",
    "              [5, 6, 7, 8],\n",
    "              [9, 10, 11, 12]])\n",
    "\n",
    "b = a[:2, 1:3]\n",
    "\n",
    "print(a[0, 1])   # Prints \"2\"\n",
    "b[0, 0] = 77     # b[0, 0] is the same piece of data as a[0, 1]\n",
    "print(a[0, 1])   # Prints \"77\"\n",
    "\n"
   ]
  },
  {
   "cell_type": "code",
   "execution_count": 25,
   "id": "65b52d8b-688f-476a-8778-6e7e56cbb465",
   "metadata": {},
   "outputs": [
    {
     "name": "stdout",
     "output_type": "stream",
     "text": [
      "[5 6 7 8] (4,)\n",
      "[[5 6 7 8]] (1, 4)\n",
      "[ 2  6 10] (3,)\n",
      "[[ 2]\n",
      " [ 6]\n",
      " [10]] (3, 1)\n"
     ]
    }
   ],
   "source": [
    "import numpy as np\n",
    "\n",
    "# Q1. Create the following rank 2 array with shape (3, 4) value as given below\n",
    "a = np.array([[1, 2, 3, 4],\n",
    "              [5, 6, 7, 8],\n",
    "              [9, 10, 11, 12]])\n",
    "\n",
    "# Two ways of accessing the data in the middle row of the array.\n",
    "# Mixing integer indexing with slices yields an array of lower rank,\n",
    "# while using only slices yields an array of the same rank as the original array:\n",
    "\n",
    "# Q2. Create Rank 1 view of the second row of a\n",
    "row_r1 = a[1, :]\n",
    "\n",
    "# Q3. Create Rank 2 view of the second row of a\n",
    "row_r2 = a[1:2, :]\n",
    "\n",
    "print(row_r1, row_r1.shape)  # Prints \"[5 6 7 8] (4,)\"\n",
    "print(row_r2, row_r2.shape)  # Prints \"[[5 6 7 8]] (1, 4)\"\n",
    "\n",
    "# We can make the same distinction when accessing columns of an array:\n",
    "\n",
    "# Q4. Create Rank 1 view of the second column of a\n",
    "col_r1 = a[:, 1]\n",
    "\n",
    "# Q5. Create Rank 2 view of the second column of a\n",
    "col_r2 = a[:, 1:2]\n",
    "\n",
    "print(col_r1, col_r1.shape)  # Prints \"[ 2  6 10] (3,)\"\n",
    "print(col_r2, col_r2.shape)  # Prints \"[[ 2] [ 6] [10]] (3, 1)\"\n"
   ]
  },
  {
   "cell_type": "code",
   "execution_count": 26,
   "id": "d60c6cdb-1cc1-4d14-b5ea-4cf36e9e04e8",
   "metadata": {},
   "outputs": [
    {
     "name": "stdout",
     "output_type": "stream",
     "text": [
      "[1 4 5]\n",
      "[1 4 5]\n",
      "[2 2]\n",
      "[2 2]\n"
     ]
    }
   ],
   "source": [
    "import numpy as np\n",
    "\n",
    "a = np.array([[1, 2], [3, 4], [5, 6]])\n",
    "\n",
    "# Q1. Print an array that should have shape (3,) and should print \"[1 4 5]\"\n",
    "# Start code here\n",
    "arr1 = np.array([a[0, 0], a[1, 1], a[2, 0]])\n",
    "print(arr1)  # Prints \"[1 4 5]\"\n",
    "\n",
    "# The method of integer array indexing that you implemented is equivalent to this:\n",
    "print(np.array([a[0, 0], a[1, 1], a[2, 0]]))  # Prints \"[1 4 5]\"\n",
    "\n",
    "# When using integer array indexing, you can reuse the same element from the source array:\n",
    "\n",
    "# Q2. Print the array that prints \"[2 2]\" when printed\n",
    "# Start code here\n",
    "arr2 = np.array([a[0, 1], a[0, 1]])\n",
    "print(arr2)  # Prints \"[2 2]\"\n",
    "\n",
    "# Equivalent to the previous integer array indexing example\n",
    "print(np.array([a[0, 1], a[0, 1]]))  # Prints \"[2 2]\"\n"
   ]
  },
  {
   "cell_type": "code",
   "execution_count": 27,
   "id": "a4e20100-afc9-40ce-aa33-453dd382b7ff",
   "metadata": {},
   "outputs": [
    {
     "name": "stdout",
     "output_type": "stream",
     "text": [
      "[[ 1  2  3]\n",
      " [ 4  5  6]\n",
      " [ 7  8  9]\n",
      " [10 11 12]]\n",
      "[ 1  6  7 11]\n",
      "[[11  2  3]\n",
      " [ 4  5 16]\n",
      " [17  8  9]\n",
      " [10 21 12]]\n"
     ]
    }
   ],
   "source": [
    "import numpy as np\n",
    "\n",
    "# Create a new array from which we will select elements\n",
    "a = np.array([[1, 2, 3], [4, 5, 6], [7, 8, 9], [10, 11, 12]])\n",
    "print(a)\n",
    "\n",
    "# Create an array of indices\n",
    "b = np.array([0, 2, 0, 1])\n",
    "\n",
    "# Q1. Select one element from each row of a using the indices in b and print it\n",
    "selected_elements = a[np.arange(a.shape[0]), b]\n",
    "print(selected_elements)  # Prints \"[1 6 7 11]\"\n",
    "\n",
    "# Q2. Mutate one element from each row of a using the indices in b by adding 10 to it and print it\n",
    "a[np.arange(a.shape[0]), b] += 10\n",
    "print(a)\n"
   ]
  },
  {
   "cell_type": "code",
   "execution_count": 28,
   "id": "2eec4788-08a4-4c7f-95e5-15bc5dd57bf5",
   "metadata": {},
   "outputs": [
    {
     "name": "stdout",
     "output_type": "stream",
     "text": [
      "[[False False]\n",
      " [ True  True]\n",
      " [ True  True]]\n",
      "[3 4 5 6]\n",
      "[3 4 5 6]\n"
     ]
    }
   ],
   "source": [
    "import numpy as np\n",
    "\n",
    "a = np.array([[1, 2], [3, 4], [5, 6]])\n",
    "\n",
    "# Q1. Find the elements of a that are bigger than 2 using boolean indexing\n",
    "bool_idx = a > 2\n",
    "\n",
    "print(bool_idx)  # Prints the boolean array\n",
    "\n",
    "# We use boolean array indexing to construct a rank 1 array\n",
    "# consisting of the elements of a corresponding to the True values of bool_idx\n",
    "print(a[bool_idx])  # Prints the elements of a that are bigger than 2\n",
    "\n",
    "# We can do all of the above in a single concise statement:\n",
    "print(a[a > 2])  # Prints the elements of a that are bigger than 2\n"
   ]
  },
  {
   "cell_type": "code",
   "execution_count": 29,
   "id": "d969c6e5-f6bb-43c2-bf5f-c6c955eb3ffd",
   "metadata": {},
   "outputs": [
    {
     "name": "stdout",
     "output_type": "stream",
     "text": [
      "int32\n",
      "float64\n",
      "int64\n"
     ]
    }
   ],
   "source": [
    "import numpy as np\n",
    "\n",
    "# Create an array with integers and let NumPy choose the datatype\n",
    "x = np.array([1, 2])\n",
    "print(x.dtype)  # Prints \"int64\"\n",
    "\n",
    "# Create an array with floats and let NumPy choose the datatype\n",
    "x = np.array([1.0, 2.0])\n",
    "print(x.dtype)  # Prints \"float64\"\n",
    "\n",
    "# Create an array with integers and force the datatype to be int64\n",
    "x = np.array([1, 2], dtype=np.int64)\n",
    "print(x.dtype)  # Prints \"int64\"\n"
   ]
  },
  {
   "cell_type": "code",
   "execution_count": 30,
   "id": "26ed4816-d5c0-4a13-9854-9ef62e2ae1b1",
   "metadata": {},
   "outputs": [
    {
     "name": "stdout",
     "output_type": "stream",
     "text": [
      "Elementwise sum:\n",
      " [[ 6.  8.]\n",
      " [10. 12.]]\n",
      "Elementwise difference:\n",
      " [[-4. -4.]\n",
      " [-4. -4.]]\n",
      "Elementwise product:\n",
      " [[ 5. 12.]\n",
      " [21. 32.]]\n",
      "Elementwise division:\n",
      " [[0.2        0.33333333]\n",
      " [0.42857143 0.5       ]]\n",
      "Elementwise square root:\n",
      " [[1.         1.41421356]\n",
      " [1.73205081 2.        ]]\n"
     ]
    }
   ],
   "source": [
    "import numpy as np\n",
    "\n",
    "x = np.array([[1, 2], [3, 4]], dtype=np.float64)\n",
    "y = np.array([[5, 6], [7, 8]], dtype=np.float64)\n",
    "\n",
    "# Q1. Print elementwise sum of x and y\n",
    "elementwise_sum = x + y\n",
    "print(\"Elementwise sum:\\n\", elementwise_sum)\n",
    "\n",
    "# Q2. Print elementwise difference of x and y\n",
    "elementwise_difference = x - y\n",
    "print(\"Elementwise difference:\\n\", elementwise_difference)\n",
    "\n",
    "# Q3. Print elementwise product of x and y\n",
    "elementwise_product = x * y\n",
    "print(\"Elementwise product:\\n\", elementwise_product)\n",
    "\n",
    "# Q4. Print elementwise division of x and y\n",
    "elementwise_division = x / y\n",
    "print(\"Elementwise division:\\n\", elementwise_division)\n",
    "\n",
    "# Q5. Print elementwise square root of x\n",
    "elementwise_sqrt = np.sqrt(x)\n",
    "print(\"Elementwise square root:\\n\", elementwise_sqrt)\n"
   ]
  },
  {
   "cell_type": "code",
   "execution_count": 31,
   "id": "707b81d5-0075-4c89-bdc3-e5d33d733438",
   "metadata": {},
   "outputs": [
    {
     "name": "stdout",
     "output_type": "stream",
     "text": [
      "Inner product of v and w: 219\n",
      "Matrix/vector product of x and v:\n",
      " [29 67]\n",
      "Matrix/matrix product of x and y:\n",
      " [[19 22]\n",
      " [43 50]]\n"
     ]
    }
   ],
   "source": [
    "import numpy as np\n",
    "\n",
    "x = np.array([[1, 2], [3, 4]])\n",
    "y = np.array([[5, 6], [7, 8]])\n",
    "\n",
    "v = np.array([9, 10])\n",
    "w = np.array([11, 12])\n",
    "\n",
    "# Q1. Print inner product of vectors v and w\n",
    "inner_product_vw = np.dot(v, w)\n",
    "print(\"Inner product of v and w:\", inner_product_vw)\n",
    "\n",
    "# Q2. Print matrix/vector product of x and v\n",
    "matrix_vector_product = np.dot(x, v)\n",
    "print(\"Matrix/vector product of x and v:\\n\", matrix_vector_product)\n",
    "\n",
    "# Q3. Print matrix/matrix product of x and y\n",
    "matrix_matrix_product = np.dot(x, y)\n",
    "print(\"Matrix/matrix product of x and y:\\n\", matrix_matrix_product)\n"
   ]
  },
  {
   "cell_type": "code",
   "execution_count": 32,
   "id": "e720e537-335c-49eb-af93-a3ec6e13d595",
   "metadata": {},
   "outputs": [
    {
     "name": "stdout",
     "output_type": "stream",
     "text": [
      "Sum of all elements: 10\n",
      "Sum of each column: [4 6]\n",
      "Sum of each row: [3 7]\n"
     ]
    }
   ],
   "source": [
    "import numpy as np\n",
    "\n",
    "x = np.array([[1, 2], [3, 4]])\n",
    "\n",
    "# Q1. Compute sum of all elements and print it\n",
    "sum_all_elements = np.sum(x)\n",
    "print(\"Sum of all elements:\", sum_all_elements)\n",
    "\n",
    "# Q2. Compute sum of each column and print it\n",
    "sum_each_column = np.sum(x, axis=0)\n",
    "print(\"Sum of each column:\", sum_each_column)\n",
    "\n",
    "# Q3. Compute sum of each row and print it\n",
    "sum_each_row = np.sum(x, axis=1)\n",
    "print(\"Sum of each row:\", sum_each_row)\n"
   ]
  },
  {
   "cell_type": "code",
   "execution_count": 33,
   "id": "5a5cd4f3-2557-4e79-936d-9750933422ee",
   "metadata": {},
   "outputs": [
    {
     "name": "stdout",
     "output_type": "stream",
     "text": [
      "Original x:\n",
      " [[1 2]\n",
      " [3 4]]\n",
      "Transpose of x:\n",
      " [[1 3]\n",
      " [2 4]]\n",
      "Original v: [1 2 3]\n",
      "Transpose of v: [1 2 3]\n"
     ]
    }
   ],
   "source": [
    "import numpy as np\n",
    "\n",
    "x = np.array([[1, 2], [3, 4]])\n",
    "\n",
    "# Q1. Print x and its transpose\n",
    "print(\"Original x:\\n\", x)\n",
    "print(\"Transpose of x:\\n\", np.transpose(x))  # Using np.transpose() function\n",
    "\n",
    "# Note that taking the transpose of a rank 1 array does nothing:\n",
    "v = np.array([1, 2, 3])\n",
    "\n",
    "# Q2. Print v and its transpose\n",
    "print(\"Original v:\", v)\n",
    "print(\"Transpose of v:\", np.transpose(v))  # np.transpose() does nothing for rank 1 array\n"
   ]
  },
  {
   "cell_type": "code",
   "execution_count": 34,
   "id": "76e651d9-262f-496d-8985-c941d1ce7ad1",
   "metadata": {},
   "outputs": [
    {
     "name": "stdout",
     "output_type": "stream",
     "text": [
      "[[ 2  2  4]\n",
      " [ 5  5  7]\n",
      " [ 8  8 10]\n",
      " [11 11 13]]\n"
     ]
    }
   ],
   "source": [
    "import numpy as np\n",
    "\n",
    "x = np.array([[1, 2, 3], [4, 5, 6], [7, 8, 9], [10, 11, 12]])\n",
    "v = np.array([1, 0, 1])\n",
    "y = np.empty_like(x)  # Create an empty matrix with the same shape as x\n",
    "\n",
    "# Q1. Add the vector v to each row of the matrix x with an explicit loop and store in y\n",
    "for i in range(x.shape[0]):\n",
    "    y[i] = x[i] + v\n",
    "\n",
    "print(y)\n"
   ]
  },
  {
   "cell_type": "code",
   "execution_count": 35,
   "id": "9feab708-fe80-4bbb-976e-bc77c8f70d30",
   "metadata": {},
   "outputs": [
    {
     "name": "stdout",
     "output_type": "stream",
     "text": [
      "[[1 0 1]\n",
      " [1 0 1]\n",
      " [1 0 1]\n",
      " [1 0 1]]\n"
     ]
    }
   ],
   "source": [
    "import numpy as np\n",
    "\n",
    "x = np.array([[1, 2, 3], [4, 5, 6], [7, 8, 9], [10, 11, 12]])\n",
    "v = np.array([1, 0, 1])\n",
    "\n",
    "# Q1. Stack 4 copies of v on top of each other using tile method and store it in vv\n",
    "vv = np.tile(v, (4, 1))\n",
    "print(vv)\n"
   ]
  },
  {
   "cell_type": "code",
   "execution_count": 36,
   "id": "00af47a2-63eb-49d9-8652-29c4eaef1fba",
   "metadata": {},
   "outputs": [
    {
     "name": "stdout",
     "output_type": "stream",
     "text": [
      "[[ 2  2  4]\n",
      " [ 5  5  7]\n",
      " [ 8  8 10]\n",
      " [11 11 13]]\n"
     ]
    }
   ],
   "source": [
    "# Q2. Add x and vv elementwise\n",
    "y = x + vv\n",
    "print(y)\n"
   ]
  },
  {
   "cell_type": "code",
   "execution_count": 37,
   "id": "ccbd89a3-a114-43e3-9843-b3c8aa25d5cc",
   "metadata": {},
   "outputs": [
    {
     "name": "stdout",
     "output_type": "stream",
     "text": [
      "[[ 2  2  4]\n",
      " [ 5  5  7]\n",
      " [ 8  8 10]\n",
      " [11 11 13]]\n"
     ]
    }
   ],
   "source": [
    "import numpy as np\n",
    "\n",
    "x = np.array([[1, 2, 3], [4, 5, 6], [7, 8, 9], [10, 11, 12]])\n",
    "v = np.array([1, 0, 1])\n",
    "\n",
    "# Q1. Add v to each row of x using broadcasting\n",
    "y = x + v\n",
    "print(y)\n"
   ]
  },
  {
   "cell_type": "code",
   "execution_count": 38,
   "id": "d72b5940-9f78-4318-a4fd-76db6f70eda0",
   "metadata": {},
   "outputs": [
    {
     "name": "stdout",
     "output_type": "stream",
     "text": [
      "Outer product of v and w:\n",
      " [[ 4  5]\n",
      " [ 8 10]\n",
      " [12 15]]\n"
     ]
    }
   ],
   "source": [
    "import numpy as np\n",
    "\n",
    "v = np.array([1, 2, 3])  # v has shape (3,)\n",
    "w = np.array([4, 5])    # w has shape (2,)\n",
    "\n",
    "# Q1. Compute the outer product of v and w and print it\n",
    "outer_product = np.outer(v, w)\n",
    "print(\"Outer product of v and w:\\n\", outer_product)\n"
   ]
  },
  {
   "cell_type": "code",
   "execution_count": 39,
   "id": "34d26770-da29-45e4-8f27-c6fe18ddfeb1",
   "metadata": {},
   "outputs": [
    {
     "name": "stdout",
     "output_type": "stream",
     "text": [
      "Matrix x with vector v added to each row:\n",
      " [[2 4 6]\n",
      " [5 7 9]]\n"
     ]
    }
   ],
   "source": [
    "x = np.array([[1, 2, 3], [4, 5, 6]])\n",
    "\n",
    "# Q2. Add vector v to each row of x and print it\n",
    "y = x + v\n",
    "print(\"Matrix x with vector v added to each row:\\n\", y)\n"
   ]
  },
  {
   "cell_type": "code",
   "execution_count": 40,
   "id": "33ed1b6d-3d75-43be-885d-71f07bf29ab2",
   "metadata": {},
   "outputs": [
    {
     "name": "stdout",
     "output_type": "stream",
     "text": [
      "Matrix x with vector w added to each column:\n",
      " [[ 5  6  7]\n",
      " [ 9 10 11]]\n"
     ]
    }
   ],
   "source": [
    "# Q3. Add vector w to each column of x and print it\n",
    "# Reshape w to be a column vector and add it to each column of x\n",
    "x_with_w_added = x + np.reshape(w, (2, 1))\n",
    "print(\"Matrix x with vector w added to each column:\\n\", x_with_w_added)\n"
   ]
  },
  {
   "cell_type": "code",
   "execution_count": 41,
   "id": "bbf195fc-82f6-4a84-aaaf-65d102664ea2",
   "metadata": {},
   "outputs": [
    {
     "name": "stdout",
     "output_type": "stream",
     "text": [
      "Matrix x multiplied by 2:\n",
      " [[ 2  4  6]\n",
      " [ 8 10 12]]\n"
     ]
    }
   ],
   "source": [
    "# Multiply matrix x by a constant (demonstrates broadcasting with scalars)\n",
    "# x has shape (2, 3). Numpy treats scalars as arrays of shape ();\n",
    "# these can be broadcast together to shape (2, 3), producing the following array:\n",
    "# [[ 2  4  6]\n",
    "#  [ 8 10 12]]\n",
    "print(\"Matrix x multiplied by 2:\\n\", x * 2)\n"
   ]
  },
  {
   "cell_type": "code",
   "execution_count": null,
   "id": "4b7720c6-916b-4078-820c-94a5f6657224",
   "metadata": {},
   "outputs": [],
   "source": []
  }
 ],
 "metadata": {
  "kernelspec": {
   "display_name": "Python 3 (ipykernel)",
   "language": "python",
   "name": "python3"
  },
  "language_info": {
   "codemirror_mode": {
    "name": "ipython",
    "version": 3
   },
   "file_extension": ".py",
   "mimetype": "text/x-python",
   "name": "python",
   "nbconvert_exporter": "python",
   "pygments_lexer": "ipython3",
   "version": "3.11.7"
  }
 },
 "nbformat": 4,
 "nbformat_minor": 5
}
